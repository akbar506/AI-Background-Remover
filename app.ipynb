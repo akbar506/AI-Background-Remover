{
 "cells": [
  {
   "cell_type": "markdown",
   "metadata": {},
   "source": [
    "## Import the Dependencies"
   ]
  },
  {
   "cell_type": "code",
   "execution_count": 1,
   "metadata": {},
   "outputs": [],
   "source": [
    "from transformers import pipeline\n",
    "import os"
   ]
  },
  {
   "cell_type": "markdown",
   "metadata": {},
   "source": [
    "## Function to remove the background from the image"
   ]
  },
  {
   "cell_type": "code",
   "execution_count": 7,
   "metadata": {},
   "outputs": [],
   "source": [
    "def AI_Background_Remover(\n",
    "        image_folder:str, \n",
    "        image_name:str, \n",
    "        result_image_folder:str, \n",
    "        result_image_name:str\n",
    "        ):\n",
    "    \n",
    "    # Image path\n",
    "    image_path = os.path.join(image_folder,image_name)\n",
    "\n",
    "    # Use the transformer library pipline\n",
    "    pipe = pipeline(\"image-segmentation\", model=\"briaai/RMBG-1.4\", trust_remote_code=True, device=\"cpu\") # You can use \"cuda\" also.\n",
    "\n",
    "    # Load the image\n",
    "    pillow_mask = pipe(image_path, return_mask = True) # outputs a pillow mask\n",
    "\n",
    "    pillow_image = pipe(image_path) # applies mask on input and returns a pillow image\n",
    "\n",
    "    # Save the mask\n",
    "    pillow_mask.save(os.path.join(\"segmented_mask\", f\"{image_name[:-4]}_segmented_mask.png\"))\n",
    "\n",
    "    # Save the image\n",
    "    pillow_image.save(os.path.join(result_image_folder, result_image_name))"
   ]
  },
  {
   "cell_type": "markdown",
   "metadata": {},
   "source": [
    "### To Remove specific images background."
   ]
  },
  {
   "cell_type": "code",
   "execution_count": 8,
   "metadata": {},
   "outputs": [
    {
     "name": "stdout",
     "output_type": "stream",
     "text": [
      "CPU times: total: 45.9 s\n",
      "Wall time: 52.2 s\n"
     ]
    }
   ],
   "source": [
    "%%time\n",
    "AI_Background_Remover(\n",
    "        image_folder=\"Image_with_background\", \n",
    "        image_name=\"portrait-beautiful-fashion-woman-with-black-makeup-golden-manicure.jpg\",\n",
    "        result_image_folder=\"Image_without_background\",\n",
    "        result_image_name=f\"portrait-beautiful-fashion-woman-with-black-makeup-golden-manicure_rm_bg.png\"\n",
    "        )"
   ]
  },
  {
   "cell_type": "markdown",
   "metadata": {},
   "source": [
    "### To Remove all images background that are save on \"Image_with_background\" Folder"
   ]
  },
  {
   "cell_type": "code",
   "execution_count": 4,
   "metadata": {},
   "outputs": [
    {
     "name": "stdout",
     "output_type": "stream",
     "text": [
      "beauty-product-exploding-with-vibrant-colors-powder-generative-ai Background Removed\n",
      "makeup-brushes-ray-light Background Removed\n",
      "portrait-beautiful-fashion-woman-with-black-makeup-golden-manicure Background Removed\n",
      "R Background Removed\n",
      "CPU times: total: 0 ns\n",
      "Wall time: 999 μs\n"
     ]
    }
   ],
   "source": [
    "%%time\n",
    "for image_name in os.listdir(\"Image_with_background\"):\n",
    "    AI_Background_Remover(\n",
    "        image_folder=\"Image_with_background\", \n",
    "        image_name=image_name,\n",
    "        result_image_folder=\"Image_without_background\",\n",
    "        result_image_name=f\"{image_name[:-4]}_rm_bg.png\"\n",
    "        )\n",
    "    print(f\"Image Name: {image_name}, Background Removed\")"
   ]
  }
 ],
 "metadata": {
  "kernelspec": {
   "display_name": "env",
   "language": "python",
   "name": "python3"
  },
  "language_info": {
   "codemirror_mode": {
    "name": "ipython",
    "version": 3
   },
   "file_extension": ".py",
   "mimetype": "text/x-python",
   "name": "python",
   "nbconvert_exporter": "python",
   "pygments_lexer": "ipython3",
   "version": "3.11.6"
  }
 },
 "nbformat": 4,
 "nbformat_minor": 2
}
